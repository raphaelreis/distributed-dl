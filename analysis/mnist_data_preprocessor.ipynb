{
 "cells": [
  {
   "cell_type": "code",
   "execution_count": 88,
   "metadata": {},
   "outputs": [],
   "source": [
    "import numpy as np\n",
    "import pandas as pd\n",
    "from sklearn.preprocessing import StandardScaler, Normalizer\n"
   ]
  },
  {
   "cell_type": "code",
   "execution_count": 73,
   "metadata": {},
   "outputs": [],
   "source": [
    "train = pd.read_csv(\"/Users/Raphael/go/src/github.com/ldsec/dpnn/data/mnist_data/mnist_train.csv\", header=None)\n",
    "test = pd.read_csv(\"/Users/Raphael/go/src/github.com/ldsec/dpnn/data/mnist_data/mnist_test.csv\", header=None)"
   ]
  },
  {
   "cell_type": "markdown",
   "metadata": {},
   "source": [
    "# Standardization"
   ]
  },
  {
   "cell_type": "code",
   "execution_count": 74,
   "metadata": {},
   "outputs": [],
   "source": [
    "X_train = train.iloc[:, 1:]\n",
    "X_test = test.iloc[:, 1:]"
   ]
  },
  {
   "cell_type": "code",
   "execution_count": 75,
   "metadata": {},
   "outputs": [],
   "source": [
    "X_train_stand = StandardScaler().fit_transform(X_train)\n",
    "X_test_stand = StandardScaler().fit_transform(X_test)"
   ]
  },
  {
   "cell_type": "code",
   "execution_count": 89,
   "metadata": {},
   "outputs": [],
   "source": [
    "stand_train = np.hstack((train.values[:, 0].reshape(-1,1), X_train_stand))\n",
    "stand_test = np.hstack((test.values[:, 0].reshape(-1,1), X_test_stand))"
   ]
  },
  {
   "cell_type": "code",
   "execution_count": 93,
   "metadata": {},
   "outputs": [],
   "source": [
    "data_base = '../data/mnist_dataset/standardized/'\n",
    "np.savetxt(data_base + 'mnist_train_stand.csv', np.around(stand_train, 5), delimiter=',', fmt='%f')\n",
    "np.savetxt(data_base + 'mnist_test_stand.csv', np.around(stand_test, 5), delimiter=',', fmt='%f')"
   ]
  },
  {
   "cell_type": "markdown",
   "metadata": {},
   "source": [
    "# Normalization"
   ]
  },
  {
   "cell_type": "code",
   "execution_count": null,
   "metadata": {},
   "outputs": [],
   "source": [
    "X_train = train.iloc[:, 1:]\n",
    "X_test = test.iloc[:, 1:]"
   ]
  },
  {
   "cell_type": "code",
   "execution_count": 78,
   "metadata": {},
   "outputs": [],
   "source": [
    "X_train_norm = Normalizer().fit_transform(X_train)\n",
    "X_test_norm = Normalizer().fit_transform(X_test)"
   ]
  },
  {
   "cell_type": "code",
   "execution_count": 79,
   "metadata": {},
   "outputs": [],
   "source": [
    "norm_train = np.hstack((train.values[:, 0].reshape(-1,1), X_train_norm))\n",
    "norm_test = np.hstack((test.values[:, 0].reshape(-1,1), X_test_norm))"
   ]
  },
  {
   "cell_type": "code",
   "execution_count": 94,
   "metadata": {},
   "outputs": [],
   "source": [
    "data_base = '../data/mnist_dataset/normalized/'\n",
    "np.savetxt(data_base + 'mnist_train_norm.csv', np.around(norm_train, 5), delimiter=',', fmt='%f')\n",
    "np.savetxt(data_base + 'mnist_test_norm.csv', np.around(norm_test, 5), delimiter=',', fmt='%f')"
   ]
  },
  {
   "cell_type": "code",
   "execution_count": null,
   "metadata": {},
   "outputs": [],
   "source": [
    "    "
   ]
  }
 ],
 "metadata": {
  "kernelspec": {
   "display_name": "Python [conda env:ada] *",
   "language": "python",
   "name": "conda-env-ada-py"
  },
  "language_info": {
   "codemirror_mode": {
    "name": "ipython",
    "version": 3
   },
   "file_extension": ".py",
   "mimetype": "text/x-python",
   "name": "python",
   "nbconvert_exporter": "python",
   "pygments_lexer": "ipython3",
   "version": "3.7.6"
  }
 },
 "nbformat": 4,
 "nbformat_minor": 4
}
