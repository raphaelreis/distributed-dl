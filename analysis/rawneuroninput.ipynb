{
 "cells": [
  {
   "cell_type": "code",
   "execution_count": 2,
   "metadata": {},
   "outputs": [],
   "source": [
    "import os\n",
    "import json\n",
    "import pandas as pd\n",
    "import numpy as np\n",
    "from numpy import genfromtxt\n",
    "import matplotlib.pyplot as plt"
   ]
  },
  {
   "cell_type": "code",
   "execution_count": 3,
   "metadata": {},
   "outputs": [],
   "source": [
    "root = '../data/rawneuroninput/'"
   ]
  },
  {
   "cell_type": "code",
   "execution_count": 7,
   "metadata": {},
   "outputs": [],
   "source": [
    "batch = [128]\n",
    "neurons = [16, 32, 64, 128]\n",
    "activation = ['sigmoid', 'relu']\n",
    "reg = ['none', 'l1', 'l2']"
   ]
  },
  {
   "cell_type": "code",
   "execution_count": 12,
   "metadata": {},
   "outputs": [
    {
     "name": "stdout",
     "output_type": "stream",
     "text": [
      "1/24 => batch: 128 | neurons: 16 | activation: sigmoid | regularizer: none\n",
      "2/24 => batch: 128 | neurons: 16 | activation: sigmoid | regularizer: l1\n",
      "3/24 => batch: 128 | neurons: 16 | activation: sigmoid | regularizer: l2\n",
      "4/24 => batch: 128 | neurons: 16 | activation: relu | regularizer: none\n",
      "5/24 => batch: 128 | neurons: 16 | activation: relu | regularizer: l1\n",
      "6/24 => batch: 128 | neurons: 16 | activation: relu | regularizer: l2\n",
      "7/24 => batch: 128 | neurons: 32 | activation: sigmoid | regularizer: none\n",
      "8/24 => batch: 128 | neurons: 32 | activation: sigmoid | regularizer: l1\n",
      "9/24 => batch: 128 | neurons: 32 | activation: sigmoid | regularizer: l2\n",
      "10/24 => batch: 128 | neurons: 32 | activation: relu | regularizer: none\n",
      "11/24 => batch: 128 | neurons: 32 | activation: relu | regularizer: l1\n",
      "12/24 => batch: 128 | neurons: 32 | activation: relu | regularizer: l2\n",
      "13/24 => batch: 128 | neurons: 64 | activation: sigmoid | regularizer: none\n",
      "14/24 => batch: 128 | neurons: 64 | activation: sigmoid | regularizer: l1\n",
      "15/24 => batch: 128 | neurons: 64 | activation: sigmoid | regularizer: l2\n",
      "16/24 => batch: 128 | neurons: 64 | activation: relu | regularizer: none\n",
      "17/24 => batch: 128 | neurons: 64 | activation: relu | regularizer: l1\n",
      "18/24 => batch: 128 | neurons: 64 | activation: relu | regularizer: l2\n",
      "19/24 => batch: 128 | neurons: 128 | activation: sigmoid | regularizer: none\n",
      "20/24 => batch: 128 | neurons: 128 | activation: sigmoid | regularizer: l1\n",
      "21/24 => batch: 128 | neurons: 128 | activation: sigmoid | regularizer: l2\n",
      "22/24 => batch: 128 | neurons: 128 | activation: relu | regularizer: none\n",
      "23/24 => batch: 128 | neurons: 128 | activation: relu | regularizer: l1\n",
      "24/24 => batch: 128 | neurons: 128 | activation: relu | regularizer: l2\n"
     ]
    },
    {
     "data": {
      "text/plain": [
       "{'batch128neurons16_sigmoid_reg_none': (-15.66, 13.34),\n",
       " 'batch128neurons16_sigmoid_reg_l1': (-15.78, 15.16),\n",
       " 'batch128neurons16_sigmoid_reg_l2': (-15.69, 17.07),\n",
       " 'batch128neurons16_relu_reg_none': (-7.39, 4.96),\n",
       " 'batch128neurons16_relu_reg_l1': (-8.43, 4.2),\n",
       " 'batch128neurons16_relu_reg_l2': (-6.34, 6.01),\n",
       " 'batch128neurons32_sigmoid_reg_none': (-16.43, 14.31),\n",
       " 'batch128neurons32_sigmoid_reg_l1': (-15.4, 12.13),\n",
       " 'batch128neurons32_sigmoid_reg_l2': (-16.19, 13.15),\n",
       " 'batch128neurons32_relu_reg_none': (-5.77, 5.39),\n",
       " 'batch128neurons32_relu_reg_l1': (-4.66, 4.02),\n",
       " 'batch128neurons32_relu_reg_l2': (-5.49, 4.99),\n",
       " 'batch128neurons64_sigmoid_reg_none': (-17.97, 10.39),\n",
       " 'batch128neurons64_sigmoid_reg_l1': (-17.44, 9.31),\n",
       " 'batch128neurons64_sigmoid_reg_l2': (-18.96, 10.53),\n",
       " 'batch128neurons64_relu_reg_none': (-11.47, 3.89),\n",
       " 'batch128neurons64_relu_reg_l1': (-11.27, 4.15),\n",
       " 'batch128neurons64_relu_reg_l2': (-4.44, 3.14),\n",
       " 'batch128neurons128_sigmoid_reg_none': (-20.42, 11.18),\n",
       " 'batch128neurons128_sigmoid_reg_l1': (-19.82, 9.37),\n",
       " 'batch128neurons128_sigmoid_reg_l2': (-21.42, 10.2),\n",
       " 'batch128neurons128_relu_reg_none': (-13.84, 2.98),\n",
       " 'batch128neurons128_relu_reg_l1': (-19.89, 3.69),\n",
       " 'batch128neurons128_relu_reg_l2': (-4.26, 3.16)}"
      ]
     },
     "execution_count": 12,
     "metadata": {},
     "output_type": "execute_result"
    }
   ],
   "source": [
    "# Print the min and max value for the raw input data over all neurons for stability (composite activation function)\n",
    "d = dict()\n",
    "i = 1\n",
    "for b in batch:\n",
    "    for n in neurons:\n",
    "        for act in activation:\n",
    "            for r in reg:\n",
    "                print(f'''{i}/{len(batch) * len(neurons) * len(activation) * len(reg)} => batch: {b} | neurons: {n} | activation: {act} | regularizer: {r}''')\n",
    "                file = f'batch{b}neurons{n}_{act}_reg_{r}.csv'\n",
    "                if os.path.exists(root + file):\n",
    "                    data = genfromtxt(root + file, delimiter=',').flatten()\n",
    "                    d[file[:-4]] = (round(np.min(data), 2), round(np.max(data), 2))\n",
    "                del data\n",
    "                i += 1\n",
    "d"
   ]
  },
  {
   "cell_type": "code",
   "execution_count": 13,
   "metadata": {},
   "outputs": [],
   "source": [
    "result_base = '../results/neuronsinputrange/'\n",
    "with open(result_base + 'input_range_batch128.txt', 'w') as json_file:\n",
    "    json.dump(d, json_file)"
   ]
  },
  {
   "cell_type": "code",
   "execution_count": 8,
   "metadata": {},
   "outputs": [
    {
     "data": {
      "text/plain": [
       "<matplotlib.axes._subplots.AxesSubplot at 0x11e6103c8>"
      ]
     },
     "execution_count": 8,
     "metadata": {},
     "output_type": "execute_result"
    },
    {
     "data": {
      "image/png": "[encoded data removed]",
      "text/plain": [
       "<Figure size 432x288 with 1 Axes>"
      ]
     },
     "metadata": {
      "needs_background": "light"
     },
     "output_type": "display_data"
    }
   ],
   "source": [
    "# There is a lot of zeros in the dataset (may be an issue of the program) so we remove it to get a sense of the\n",
    "# distribution of non zeros values\n",
    "\n",
    "sns.distplot(inputs[(inputs > 0.) | (inputs < 0.)])"
   ]
  },
  {
   "cell_type": "code",
   "execution_count": 10,
   "metadata": {},
   "outputs": [
    {
     "data": {
      "text/plain": [
       "(-2.750118, 2.9998560000000003)"
      ]
     },
     "execution_count": 10,
     "metadata": {},
     "output_type": "execute_result"
    }
   ],
   "source": [
    "np.min(inputs), np.max(inputs)"
   ]
  },
  {
   "cell_type": "code",
   "execution_count": null,
   "metadata": {},
   "outputs": [],
   "source": [
    "# TODO Check for zeros raw inputs. -> Probably due to initialization"
   ]
  }
 ],
 "metadata": {
  "kernelspec": {
   "display_name": "Python 3",
   "language": "python",
   "name": "python3"
  },
  "language_info": {
   "codemirror_mode": {
    "name": "ipython",
    "version": 3
   },
   "file_extension": ".py",
   "mimetype": "text/x-python",
   "name": "python",
   "nbconvert_exporter": "python",
   "pygments_lexer": "ipython3",
   "version": "3.7.6"
  }
 },
 "nbformat": 4,
 "nbformat_minor": 2
}
