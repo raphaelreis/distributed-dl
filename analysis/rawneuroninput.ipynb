{
 "cells": [
  {
   "cell_type": "code",
   "execution_count": 2,
   "metadata": {},
   "outputs": [],
   "source": [
    "import os\n",
    "import json\n",
    "import pandas as pd\n",
    "import numpy as np\n",
    "from numpy import genfromtxt\n",
    "import matplotlib.pyplot as plt"
   ]
  },
  {
   "cell_type": "code",
   "execution_count": 40,
   "metadata": {},
   "outputs": [],
   "source": [
    "root = '../data/rawneuroninput/normalized/'"
   ]
  },
  {
   "cell_type": "code",
   "execution_count": 43,
   "metadata": {},
   "outputs": [],
   "source": [
    "batch = [64, 128]\n",
    "neurons = [16, 32, 64, 128]\n",
    "activation = ['sigmoid', 'relu']\n",
    "# reg = ['none', 'l1', 'l2']"
   ]
  },
  {
   "cell_type": "code",
   "execution_count": 44,
   "metadata": {},
   "outputs": [
    {
     "name": "stdout",
     "output_type": "stream",
     "text": [
      "1/16 => batch: 64 | neurons: 16 | activation: sigmoid\n",
      "2/16 => batch: 64 | neurons: 16 | activation: relu\n",
      "3/16 => batch: 64 | neurons: 32 | activation: sigmoid\n",
      "4/16 => batch: 64 | neurons: 32 | activation: relu\n",
      "5/16 => batch: 64 | neurons: 64 | activation: sigmoid\n",
      "6/16 => batch: 64 | neurons: 64 | activation: relu\n",
      "7/16 => batch: 64 | neurons: 128 | activation: sigmoid\n",
      "8/16 => batch: 64 | neurons: 128 | activation: relu\n",
      "9/16 => batch: 128 | neurons: 16 | activation: sigmoid\n",
      "10/16 => batch: 128 | neurons: 16 | activation: relu\n",
      "11/16 => batch: 128 | neurons: 32 | activation: sigmoid\n",
      "12/16 => batch: 128 | neurons: 32 | activation: relu\n",
      "13/16 => batch: 128 | neurons: 64 | activation: sigmoid\n",
      "14/16 => batch: 128 | neurons: 64 | activation: relu\n",
      "15/16 => batch: 128 | neurons: 128 | activation: sigmoid\n",
      "16/16 => batch: 128 | neurons: 128 | activation: relu\n"
     ]
    },
    {
     "data": {
      "text/plain": [
       "{'batch64neurons16_sigmoid': (-60.37, 27.95),\n",
       " 'batch64neurons16_relu': (-47.15, 57.3),\n",
       " 'batch64neurons32_sigmoid': (-59.2, 39.87),\n",
       " 'batch64neurons32_relu': (-52.98, 76.82),\n",
       " 'batch64neurons64_sigmoid': (-58.63, 46.75),\n",
       " 'batch64neurons64_relu': (-76.16, 74.85),\n",
       " 'batch64neurons128_sigmoid': (-58.48, 79.65),\n",
       " 'batch64neurons128_relu': (-181.79, 274.12),\n",
       " 'batch128neurons16_sigmoid': (-46.73, 29.2),\n",
       " 'batch128neurons16_relu': (-43.37, 41.82),\n",
       " 'batch128neurons32_sigmoid': (-48.18, 27.47),\n",
       " 'batch128neurons32_relu': (-42.59, 71.53),\n",
       " 'batch128neurons64_sigmoid': (-58.65, 49.67),\n",
       " 'batch128neurons64_relu': (-84.98, 132.12),\n",
       " 'batch128neurons128_sigmoid': (-62.59, 81.35),\n",
       " 'batch128neurons128_relu': (-132.67, 156.75)}"
      ]
     },
     "execution_count": 44,
     "metadata": {},
     "output_type": "execute_result"
    }
   ],
   "source": [
    "# Print the min and max value for the raw input data over all neurons for stability (composite activation function)\n",
    "d = dict()\n",
    "i = 1\n",
    "# for b in batch:\n",
    "#     for n in neurons:\n",
    "#         for act in activation:\n",
    "#             for r in reg:\n",
    "#                 print(f'''{i}/{len(batch) * len(neurons) * len(activation) * len(reg)} => batch: {b} | neurons: {n} | activation: {act} | regularizer: {r}''')\n",
    "#                 file = f'batch{b}neurons{n}_{act}_reg_{r}.csv'\n",
    "#                 if os.path.exists(root + file):\n",
    "#                     data = genfromtxt(root + file, delimiter=',').flatten()\n",
    "#                     d[file[:-4]] = (round(np.min(data), 2), round(np.max(data), 2))\n",
    "#                 del data\n",
    "#                 i += 1\n",
    "\n",
    "\n",
    "for b in batch:\n",
    "    for n in neurons:\n",
    "        for act in activation:\n",
    "                print(f'''{i}/{len(batch) * len(neurons) * len(activation)} => batch: {b} | neurons: {n} | activation: {act}''')\n",
    "                file = f'batch{b}neurons{n}_{act}.csv'\n",
    "                if os.path.exists(root + file):\n",
    "                    data = pd.read_csv(root + file).fillna(0.).values.flatten()\n",
    "                    d[file[:-4]] = (round(np.min(data), 2), round(np.max(data), 2))\n",
    "                del data\n",
    "                i += 1\n",
    "print(\"Analysis finished !\")\n",
    "\n",
    "d"
   ]
  },
  {
   "cell_type": "code",
   "execution_count": 5,
   "metadata": {},
   "outputs": [],
   "source": [
    "result_base = '../results/neuronsinputrange/'\n",
    "with open(result_base + 'normalized.txt', 'w') as json_file:\n",
    "    json.dump(d, json_file)"
   ]
  },
  {
   "cell_type": "code",
   "execution_count": null,
   "metadata": {},
   "outputs": [],
   "source": []
  }
 ],
 "metadata": {
  "kernelspec": {
   "display_name": "Python 3",
   "language": "python",
   "name": "python3"
  },
  "language_info": {
   "codemirror_mode": {
    "name": "ipython",
    "version": 3
   },
   "file_extension": ".py",
   "mimetype": "text/x-python",
   "name": "python",
   "nbconvert_exporter": "python",
   "pygments_lexer": "ipython3",
   "version": "3.7.6"
  }
 },
 "nbformat": 4,
 "nbformat_minor": 2
}
